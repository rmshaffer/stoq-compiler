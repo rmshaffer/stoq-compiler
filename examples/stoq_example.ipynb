{
 "cells": [
  {
   "cell_type": "code",
   "execution_count": 1,
   "metadata": {},
   "outputs": [],
   "source": [
    "from stoqcompiler.compiler import Compiler\n",
    "from stoqcompiler.unitary import Unitary, UnitaryPrimitive, UnitaryDefinitions, ParameterizedUnitaryDefinitions"
   ]
  },
  {
   "cell_type": "code",
   "execution_count": 2,
   "metadata": {},
   "outputs": [],
   "source": [
    "num_qubits = 2\n",
    "qubit_dimension = 2\n",
    "system_dimension = qubit_dimension ** num_qubits\n",
    "\n",
    "unitary_primitives = [\n",
    "    UnitaryPrimitive(ParameterizedUnitaryDefinitions.rotation_xy()),\n",
    "    UnitaryPrimitive(ParameterizedUnitaryDefinitions.xx()),\n",
    "]\n",
    "\n",
    "compiler = Compiler(system_dimension, unitary_primitives)"
   ]
  },
  {
   "cell_type": "code",
   "execution_count": 3,
   "metadata": {},
   "outputs": [
    {
     "name": "stdout",
     "output_type": "stream",
     "text": [
      "2-qubit sequence contains 1 unitaries.\n",
      "Final cost = 0.0008969043082751593\n",
      "Finished 500 steps in 0.7902131000000001 seconds.\n"
     ]
    }
   ],
   "source": [
    "target_unitary = UnitaryDefinitions.xx()\n",
    "compiler_result = compiler.compile(target_unitary, max_step_count=500)\n",
    "\n",
    "print(f\"{num_qubits}-qubit sequence contains {compiler_result.compiled_sequence.get_length()} unitaries.\")\n",
    "print(f\"Final cost = {compiler_result.cost_by_step[-1]}\")\n",
    "print(f\"Finished {len(compiler_result.cost_by_step)} steps in {compiler_result.total_elapsed_time} seconds.\")"
   ]
  },
  {
   "cell_type": "code",
   "execution_count": 4,
   "metadata": {},
   "outputs": [
    {
     "name": "stdout",
     "output_type": "stream",
     "text": [
      "# QASM generated from UnitarySequence.get_qasm()\n",
      "XX(pi*0.2365175)\tq[0],q[1];\n"
     ]
    }
   ],
   "source": [
    "print(compiler_result.compiled_sequence.get_qasm())"
   ]
  },
  {
   "cell_type": "code",
   "execution_count": 5,
   "metadata": {},
   "outputs": [
    {
     "name": "stdout",
     "output_type": "stream",
     "text": [
      "2-qubit sequence contains 7 unitaries.\n",
      "Final cost = 0.3338792416324714\n",
      "Finished 500 steps in 0.9206826000000001 seconds.\n"
     ]
    }
   ],
   "source": [
    "target_unitary = Unitary.random(system_dimension)\n",
    "compiler_result = compiler.compile(target_unitary, max_step_count=500)\n",
    "\n",
    "print(f\"{num_qubits}-qubit sequence contains {compiler_result.compiled_sequence.get_length()} unitaries.\")\n",
    "print(f\"Final cost = {compiler_result.cost_by_step[-1]}\")\n",
    "print(f\"Finished {len(compiler_result.cost_by_step)} steps in {compiler_result.total_elapsed_time} seconds.\")"
   ]
  },
  {
   "cell_type": "code",
   "execution_count": 6,
   "metadata": {},
   "outputs": [
    {
     "name": "stdout",
     "output_type": "stream",
     "text": [
      "# QASM generated from UnitarySequence.get_qasm()\n",
      "Rxy(pi*0.4349221,pi*0.630942)\tq[1];\n",
      "Rxy(pi*1.1640129,pi*1.6581122)\tq[0];\n",
      "Rxy(pi*0.9942664,pi*0.062046)\tq[0];\n",
      "Rxy(pi*0.2013379,pi*0.3832542)\tq[0];\n",
      "Rxy(pi*1.6943138,pi*1.0915314)\tq[1];\n",
      "XX(pi*0.8264023)\tq[0],q[1];\n",
      "Rxy(pi*0.166626,pi*0.3382734)\tq[0];\n"
     ]
    }
   ],
   "source": [
    "print(compiler_result.compiled_sequence.get_qasm())"
   ]
  }
 ],
 "metadata": {
  "kernelspec": {
   "display_name": "Python 3",
   "language": "python",
   "name": "python3"
  },
  "language_info": {
   "codemirror_mode": {
    "name": "ipython",
    "version": 3
   },
   "file_extension": ".py",
   "mimetype": "text/x-python",
   "name": "python",
   "nbconvert_exporter": "python",
   "pygments_lexer": "ipython3",
   "version": "3.7.6"
  }
 },
 "nbformat": 4,
 "nbformat_minor": 4
}
