{
 "cells": [
  {
   "cell_type": "code",
   "execution_count": 1,
   "id": "b0b093ef",
   "metadata": {},
   "outputs": [],
   "source": [
    "import copy\n",
    "import matplotlib as mpl\n",
    "import matplotlib.pyplot as plt\n",
    "from matplotlib.ticker import FormatStrFormatter\n",
    "import numpy as np\n",
    "import os\n",
    "import re\n",
    "from scipy.optimize import curve_fit\n",
    "\n",
    "from jaqalpaq.parser import parse_jaqal_string\n",
    "from jaqalpaq.emulator import run_jaqal_circuit\n",
    "\n",
    "mpl.rcParams['font.size'] = 12\n",
    "mpl.rcParams['font.family'] = 'Times New Roman'\n",
    "mpl.rcParams['mathtext.fontset'] = 'cm'"
   ]
  },
  {
   "cell_type": "markdown",
   "id": "e2af5c19",
   "metadata": {},
   "source": [
    "Load the raw RAV and XEB result data from the IBM Q run."
   ]
  },
  {
   "cell_type": "code",
   "execution_count": 2,
   "id": "8906cda6",
   "metadata": {},
   "outputs": [
    {
     "data": {
      "text/plain": [
       "(10, 50, 4)"
      ]
     },
     "execution_count": 2,
     "metadata": {},
     "output_type": "execute_result"
    }
   ],
   "source": [
    "[rav50, rav100, rav500, rav1000, rav5000] = np.load('data/ibmq_manila/ravcounts.npy')\n",
    "\n",
    "def discard_odd(full):\n",
    "    full = np.array(full)\n",
    "    return np.hstack((full[:,0:44:2,:], full[:,44:,]))\n",
    "\n",
    "[rav50, rav100, rav500, rav1000, rav5000] = [discard_odd(counts) for counts in [rav50, rav100, rav500, rav1000, rav5000]]\n",
    "rav_results = {\n",
    "    50: rav50,\n",
    "    100: rav100,\n",
    "    500: rav500,\n",
    "    1000: rav1000,\n",
    "    5000: rav5000,\n",
    "}\n",
    "\n",
    "shots_per_run = 50\n",
    "run_count = rav_results[shots_per_run].shape[0]\n",
    "rav_results[shots_per_run].shape"
   ]
  },
  {
   "cell_type": "code",
   "execution_count": 3,
   "id": "1a9e9b98",
   "metadata": {},
   "outputs": [
    {
     "data": {
      "text/plain": [
       "(10, 50, 4)"
      ]
     },
     "execution_count": 3,
     "metadata": {},
     "output_type": "execute_result"
    }
   ],
   "source": [
    "[xeb50, xeb100, xeb500, xeb1000, xeb5000] = np.load('data/ibmq_manila/xebcounts.npy')\n",
    "\n",
    "def discard_odd(full):\n",
    "    full = np.array(full)\n",
    "    return np.hstack((full[:,0:44:2,:], full[:,44:,]))\n",
    "\n",
    "[xeb50, xeb100, xeb500, xeb1000, xeb5000] = [discard_odd(counts) for counts in [xeb50, xeb100, xeb500, xeb1000, xeb5000]]\n",
    "xeb_results = {\n",
    "    50: xeb50,\n",
    "    100: xeb100,\n",
    "    500: xeb500,\n",
    "    1000: xeb1000,\n",
    "    5000: xeb5000,\n",
    "}\n",
    "\n",
    "shots_per_run = 50\n",
    "run_count = xeb_results[shots_per_run].shape[0]\n",
    "xeb_results[shots_per_run].shape"
   ]
  },
  {
   "cell_type": "code",
   "execution_count": 4,
   "id": "a684a21f",
   "metadata": {},
   "outputs": [
    {
     "data": {
      "text/plain": [
       "[50, 100, 500, 1000, 5000]"
      ]
     },
     "execution_count": 4,
     "metadata": {},
     "output_type": "execute_result"
    }
   ],
   "source": [
    "k_list = list(xeb_results.keys())\n",
    "k_list"
   ]
  },
  {
   "cell_type": "markdown",
   "id": "c48bfcaa",
   "metadata": {},
   "source": [
    "Load the ideal simulated results of the RAV and XEB sequences."
   ]
  },
  {
   "cell_type": "code",
   "execution_count": 5,
   "id": "f25ec4bd",
   "metadata": {},
   "outputs": [
    {
     "data": {
      "text/plain": [
       "(50,)"
      ]
     },
     "execution_count": 5,
     "metadata": {},
     "output_type": "execute_result"
    }
   ],
   "source": [
    "simulated_results_rav = np.loadtxt('data/simulated_results_rav.txt', dtype=int)\n",
    "simulated_results_rav = np.hstack((simulated_results_rav[0:44:2], simulated_results_rav[44:]))\n",
    "simulated_results_rav = simulated_results_rav / 1e6\n",
    "simulated_results_rav.shape"
   ]
  },
  {
   "cell_type": "code",
   "execution_count": 6,
   "id": "08b252bb",
   "metadata": {},
   "outputs": [
    {
     "data": {
      "text/plain": [
       "(50, 4)"
      ]
     },
     "execution_count": 6,
     "metadata": {},
     "output_type": "execute_result"
    }
   ],
   "source": [
    "simulated_results_xeb = np.loadtxt('data/simulated_results_xeb.txt', dtype=int)\n",
    "simulated_results_xeb = np.vstack((simulated_results_xeb[0:44:2,:], simulated_results_xeb[44:,:]))\n",
    "simulated_results_xeb = simulated_results_xeb / 1e6\n",
    "simulated_results_xeb.shape"
   ]
  },
  {
   "cell_type": "code",
   "execution_count": 7,
   "id": "7d267646",
   "metadata": {},
   "outputs": [],
   "source": [
    "DIM = 4   # 2-qubit circuits\n",
    "\n",
    "def exponential_func(x, alpha):\n",
    "    return alpha**x\n",
    "        \n",
    "def get_2Q_gate_count(jaqal):\n",
    "    code_array = jaqal.split(\"\\n\")\n",
    "    code_array = code_array[5:-1]\n",
    "    total_2q_gate_count = 0\n",
    "    for rotation in code_array:\n",
    "        rotation_array = rotation.split(\" \")\n",
    "        gate_type = rotation_array[0]\n",
    "        if gate_type.startswith(\"MS\"):\n",
    "            total_2q_gate_count += 1\n",
    "    return total_2q_gate_count"
   ]
  },
  {
   "cell_type": "markdown",
   "id": "2cc9b175",
   "metadata": {},
   "source": [
    "## RAV"
   ]
  },
  {
   "cell_type": "code",
   "execution_count": 8,
   "id": "d9ea6977",
   "metadata": {},
   "outputs": [],
   "source": [
    "rav_fidelities = {}\n",
    "\n",
    "for k in k_list:\n",
    "    shots_per_run = k\n",
    "\n",
    "    def files_to_list(directory):\n",
    "        jaqal_files = [f'{directory}/{f}' for f in os.listdir(directory)]\n",
    "        jaqal_circuits = []\n",
    "        for jaqal_file in jaqal_files:\n",
    "            with open(jaqal_file, mode='r') as f:\n",
    "                jaqal = ''.join(f.readlines())\n",
    "                circuit_i = int(re.search('rav\\/(.*)_1.txt', jaqal_file).group(1))\n",
    "                circuit_i = (circuit_i // 2) - 1  # convert circuit_i to an index between 0 and 49\n",
    "                assert 0 <= circuit_i and circuit_i <= 49\n",
    "                total_2q_gate_count = get_2Q_gate_count(jaqal)\n",
    "                pure_probs = [simulated_results_rav[circuit_i]]\n",
    "                sampled_probs = rav_results[shots_per_run][:,circuit_i,:]/shots_per_run\n",
    "                jaqal_circuits.append({\n",
    "                    'circuit_i': circuit_i,\n",
    "                    'jaqal': jaqal,\n",
    "                    'cycle_depth': total_2q_gate_count,\n",
    "                    'pure_probs': pure_probs,\n",
    "                    'sampled_probs': sampled_probs,\n",
    "                })\n",
    "        return jaqal_circuits\n",
    "\n",
    "    dir_name = \"data/sequences/rav\"\n",
    "    records = files_to_list(dir_name)\n",
    "    \n",
    "    DIM = 4   # 2-qubit circuits\n",
    "    records_by_run = [copy.deepcopy(records) for _ in range(run_count)]\n",
    "\n",
    "    for run_idx, records in enumerate(records_by_run):\n",
    "        for record in records:\n",
    "            record.update(\n",
    "                sampled_probs=record['sampled_probs'][run_idx],\n",
    "            )\n",
    "    \n",
    "    rav_fidelities[k] = []\n",
    "\n",
    "    for run_idx, records in enumerate(records_by_run):\n",
    "        from scipy.optimize import curve_fit\n",
    "        \n",
    "        # ignore run ranges that we observe to have abnormalities\n",
    "        if shots_per_run == 50 and run_idx in [0,1,2]:\n",
    "            continue    \n",
    "        if shots_per_run == 100 and run_idx in [7,8,9]:\n",
    "            continue\n",
    "        if shots_per_run == 5000 and run_idx in [7,8]:\n",
    "            continue\n",
    "\n",
    "        success_rates = [(record[\"sampled_probs\"][0] - 1/DIM) / (record[\"pure_probs\"][0] - 1/DIM) for record in records]\n",
    "        total_layer_counts = [record[\"cycle_depth\"] for record in records]\n",
    "\n",
    "        x_RAV = np.linspace(min(total_layer_counts),max(total_layer_counts),100)\n",
    "        popt_RAV, pcov = curve_fit(exponential_func, total_layer_counts, success_rates)\n",
    "        alpha_RAV = popt_RAV[0]\n",
    "        rav_fidelities[k].append(alpha_RAV)"
   ]
  },
  {
   "cell_type": "markdown",
   "id": "99926a84",
   "metadata": {},
   "source": [
    "## XEB"
   ]
  },
  {
   "cell_type": "code",
   "execution_count": 9,
   "id": "0ed5efb6",
   "metadata": {},
   "outputs": [],
   "source": [
    "xeb_fidelities = {}\n",
    "\n",
    "for k in k_list:\n",
    "    shots_per_run = k\n",
    "    \n",
    "    def files_to_list(directory):\n",
    "        jaqal_files = [f'{directory}/{f}' for f in os.listdir(directory)]\n",
    "        jaqal_circuits = []\n",
    "        for jaqal_file in jaqal_files:\n",
    "            with open(jaqal_file, mode='r') as f:\n",
    "                jaqal = ''.join(f.readlines())\n",
    "                circuit_i = int(re.search('xeb\\/(.*)_1.txt', jaqal_file).group(1))\n",
    "                circuit_i = (circuit_i // 2) - 1  # convert circuit_i to an index between 0 and 49\n",
    "                assert 0 <= circuit_i and circuit_i <= 49\n",
    "                total_2q_gate_count = get_2Q_gate_count(jaqal)\n",
    "                pure_probs = simulated_results_xeb[circuit_i]\n",
    "                sampled_probs = xeb_results[shots_per_run][:,circuit_i,:]/shots_per_run\n",
    "                jaqal_circuits.append({\n",
    "                    'circuit_i': circuit_i,\n",
    "                    'jaqal': jaqal,\n",
    "                    'cycle_depth': total_2q_gate_count,\n",
    "                    'pure_probs': pure_probs,\n",
    "                    'sampled_probs': sampled_probs,\n",
    "                })\n",
    "        return jaqal_circuits\n",
    "\n",
    "    dir_name = \"data/sequences/xeb\"\n",
    "    records = files_to_list(dir_name)\n",
    "    \n",
    "    DIM = 4   # 2-qubit circuits\n",
    "\n",
    "    records_by_run = [copy.deepcopy(records) for _ in range(run_count)]\n",
    "\n",
    "    for run_idx, records in enumerate(records_by_run):\n",
    "        for record in records:\n",
    "            e_u = np.sum(record['pure_probs']**2)\n",
    "            u_u = np.sum(record['pure_probs']) / DIM\n",
    "            m_u = np.sum(record['pure_probs'] * record['sampled_probs'][run_idx])\n",
    "            record.update(\n",
    "                sampled_probs=record['sampled_probs'][run_idx],\n",
    "                e_u=e_u,\n",
    "                u_u=u_u,\n",
    "                m_u=m_u,\n",
    "            )\n",
    "    \n",
    "    xeb_fidelities[k] = []\n",
    "\n",
    "    for run_idx, records in enumerate(records_by_run):\n",
    "        \n",
    "        # ignore run ranges that we observe to have abnormalities    \n",
    "        if shots_per_run == 500 and run_idx in [5,6,7]:\n",
    "            continue\n",
    "        if shots_per_run == 1000 and run_idx in [8,9]:\n",
    "            continue\n",
    "\n",
    "        success_rates = []\n",
    "        for record in records:\n",
    "            e_u = np.sum(record[\"pure_probs\"]**2)\n",
    "            u_u = np.sum(record[\"pure_probs\"]) / DIM\n",
    "            m_u = np.sum(record[\"pure_probs\"] * record[\"sampled_probs\"])\n",
    "            y = record[\"m_u\"] - record[\"u_u\"]\n",
    "            x = record[\"e_u\"] - record[\"u_u\"]\n",
    "            xeb_fidelity = (x * y) / (x ** 2)\n",
    "            success_rates.append(xeb_fidelity)\n",
    "        total_layer_counts = [record[\"cycle_depth\"] for record in records]\n",
    "\n",
    "        x_XEB = np.linspace(min(total_layer_counts),max(total_layer_counts),100)\n",
    "        popt_XEB, pcov = curve_fit(exponential_func, total_layer_counts, success_rates)\n",
    "        alpha_XEB = popt_XEB[0]\n",
    "        xeb_fidelities[k].append(alpha_XEB)"
   ]
  },
  {
   "cell_type": "markdown",
   "id": "93f2863a",
   "metadata": {},
   "source": [
    "## Plot for Figure 9(c)"
   ]
  },
  {
   "cell_type": "code",
   "execution_count": 10,
   "id": "524794e9",
   "metadata": {},
   "outputs": [
    {
     "data": {
      "image/png": "[encoded data removed]",
      "text/plain": [
       "<Figure size 288x360 with 1 Axes>"
      ]
     },
     "metadata": {
      "needs_background": "light"
     },
     "output_type": "display_data"
    }
   ],
   "source": [
    "plt.figure(figsize=(4,5))\n",
    "\n",
    "plt.plot(k_list, [np.std(rav_fidelities[k]) for k in k_list], 'o-', label=\"RAV\")\n",
    "plt.plot(k_list, [np.std(xeb_fidelities[k]) for k in k_list], 'o-', label=\"XEB\")\n",
    "\n",
    "plt.xscale('log')\n",
    "plt.yscale('log')\n",
    "\n",
    "plt.xlabel(r'Shots per run', fontsize=14)\n",
    "plt.ylabel(f'Std. deviation of fidelity loss estimate', fontsize=14)\n",
    "\n",
    "plt.xticks(ticks=k_list, labels=k_list)\n",
    "\n",
    "plt.xlim(40, 6000)\n",
    "plt.ylim(2e-4, 1e-2)\n",
    "plt.hlines(1e-3, xmin=0, xmax=10000, color='black', linestyle='dotted', linewidth=1)\n",
    "\n",
    "plt.title('ibmq_manila fit precision', fontsize=14)\n",
    "\n",
    "plt.tight_layout()\n",
    "plt.legend()\n",
    "\n",
    "plt.savefig(f'fig9c.pdf', bbox_inches='tight')\n",
    "plt.show()"
   ]
  },
  {
   "cell_type": "markdown",
   "id": "19cb7d67",
   "metadata": {},
   "source": [
    "## Data for Figure 9(d)"
   ]
  },
  {
   "cell_type": "code",
   "execution_count": 11,
   "id": "1f1c3224",
   "metadata": {},
   "outputs": [
    {
     "data": {
      "text/plain": [
       "[(50, 0.02100897381695599, 0.0015977001546413606, 0.07604846236477689),\n",
       " (100, 0.025142740643523398, 0.001750293182151336, 0.06961425593841139),\n",
       " (500, 0.02181685311700543, 0.0013097395354514567, 0.06003338466951327),\n",
       " (1000, 0.021939209501417145, 0.0009654945785915581, 0.044007719536530834),\n",
       " (5000, 0.020471629511935374, 0.0005528015426505958, 0.02700329948469912)]"
      ]
     },
     "execution_count": 11,
     "metadata": {},
     "output_type": "execute_result"
    }
   ],
   "source": [
    "[(k,\n",
    "  1.0 - np.mean(rav_fidelities[k]),\n",
    "  np.std(rav_fidelities[k]),\n",
    "  np.std(rav_fidelities[k]) / (1.0 - np.mean(rav_fidelities[k]))\n",
    ") for k in rav_fidelities]"
   ]
  },
  {
   "cell_type": "code",
   "execution_count": 12,
   "id": "f0141aca",
   "metadata": {},
   "outputs": [
    {
     "data": {
      "text/plain": [
       "[(50, 0.02572201323180834, 0.003175813056621004, 0.12346673753723647),\n",
       " (100, 0.024438685206102817, 0.0024750146608023414, 0.10127446055012329),\n",
       " (500, 0.0256311302774469, 0.001711366003891373, 0.06676904160552069),\n",
       " (1000, 0.029272653779623292, 0.0025599631620558953, 0.08745237727089461),\n",
       " (5000, 0.02433807545199662, 0.0010640106092048292, 0.04371794356967288)]"
      ]
     },
     "execution_count": 12,
     "metadata": {},
     "output_type": "execute_result"
    }
   ],
   "source": [
    "[(k,\n",
    "  1.0 - np.mean(xeb_fidelities[k]),\n",
    "  np.std(xeb_fidelities[k]),\n",
    "  np.std(xeb_fidelities[k]) / (1.0 - np.mean(xeb_fidelities[k]))\n",
    ") for k in xeb_fidelities]"
   ]
  },
  {
   "cell_type": "code",
   "execution_count": 13,
   "id": "9b64f462",
   "metadata": {},
   "outputs": [
    {
     "data": {
      "text/plain": [
       "[(50, 1.623527073368181),\n",
       " (100, 1.454794843167211),\n",
       " (500, 1.1121985204247193),\n",
       " (1000, 1.987205385598323),\n",
       " (5000, 1.6189852500967439)]"
      ]
     },
     "execution_count": 13,
     "metadata": {},
     "output_type": "execute_result"
    }
   ],
   "source": [
    "[(k,\n",
    "  ((np.std(xeb_fidelities[k])/(1.0-np.mean(xeb_fidelities[k])))\n",
    "   /(np.std(rav_fidelities[k])/(1.0-np.mean(rav_fidelities[k]))))\n",
    ") for k in xeb_fidelities]"
   ]
  }
 ],
 "metadata": {
  "kernelspec": {
   "display_name": "Python 3 (ipykernel)",
   "language": "python",
   "name": "python3"
  },
  "language_info": {
   "codemirror_mode": {
    "name": "ipython",
    "version": 3
   },
   "file_extension": ".py",
   "mimetype": "text/x-python",
   "name": "python",
   "nbconvert_exporter": "python",
   "pygments_lexer": "ipython3",
   "version": "3.8.5"
  }
 },
 "nbformat": 4,
 "nbformat_minor": 5
}
