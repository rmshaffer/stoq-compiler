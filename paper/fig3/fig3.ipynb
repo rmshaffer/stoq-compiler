{
 "cells": [
  {
   "cell_type": "code",
   "execution_count": 1,
   "id": "e69e5870",
   "metadata": {},
   "outputs": [],
   "source": [
    "import numpy as np\n",
    "import matplotlib as mpl\n",
    "import matplotlib.pyplot as plt\n",
    "\n",
    "mpl.rcParams['font.size'] = 12\n",
    "mpl.rcParams['font.family'] = 'Times New Roman'\n",
    "mpl.rcParams['mathtext.fontset'] = 'cm'"
   ]
  },
  {
   "cell_type": "code",
   "execution_count": 2,
   "id": "4df6c024",
   "metadata": {},
   "outputs": [],
   "source": [
    "ϵ_default = 0.04  # default approximation of RAV error\n",
    "\n",
    "def std_f_rav(K, N, λ, ϵ=ϵ_default):\n",
    "    variance = (1/K) * (N / (N*(1-ϵ)-1))**2 * ((1-λ)*(1-ϵ) + λ/N) * (1 - (1-λ)*(1-ϵ) - λ/N)\n",
    "    return np.sqrt(variance)\n",
    "\n",
    "def std_f_xeb(K, N, λ, p2_sum=None, p3_sum=None, p4_sum=None):\n",
    "    if p2_sum is None:\n",
    "        p2_sum = 1/2\n",
    "    if p3_sum is None:\n",
    "        p3_sum = 1/3\n",
    "    if p4_sum is None:\n",
    "        p4_sum = 1/4\n",
    "    variance = (1/K) * (N/(p2_sum*N-1))**2 * (p2_sum*(λ/N - (λ/N)**2) + p3_sum*(1-λ)*(1-2*λ/N) - p4_sum*(1-λ)**2)\n",
    "    return np.sqrt(variance)"
   ]
  },
  {
   "cell_type": "code",
   "execution_count": 3,
   "id": "3c50b090",
   "metadata": {},
   "outputs": [
    {
     "data": {
      "image/png": "[encoded data removed]",
      "text/plain": [
       "<Figure size 648x180 with 5 Axes>"
      ]
     },
     "metadata": {
      "needs_background": "light"
     },
     "output_type": "display_data"
    }
   ],
   "source": [
    "λ = np.array([0.0, 0.25, 0.5, 0.75, 1.0])\n",
    "n_qubits_list = np.linspace(2, 15, num=100)\n",
    "K = 100\n",
    "\n",
    "fig, ax = plt.subplots(1,len(λ),figsize=(9, 2.5))\n",
    "\n",
    "for i, λ_curr in enumerate(λ):\n",
    "    N = 2**np.array(n_qubits_list)\n",
    "    relative_std_rav = std_f_rav(K, N, λ_curr)\n",
    "    relative_std_xeb = std_f_xeb(K, N, λ_curr)\n",
    "\n",
    "    ax[i].plot(n_qubits_list, relative_std_rav, '-', label='RAV')\n",
    "    ax[i].plot(n_qubits_list, relative_std_xeb, '-', label='XEB')\n",
    "\n",
    "    ax[i].set_xlabel(r'$n$')\n",
    "    if i==0:\n",
    "        ax[i].set_ylabel(r'$\\sqrt{{\\rm Var}(\\hat{F})}$')\n",
    "    else:\n",
    "        ax[i].set_yticklabels([])\n",
    "    ax[i].set_xlim(2, 15)\n",
    "    ax[i].set_xticks([2,6,10,14])\n",
    "    ax[i].set_ylim(0, 0.15)\n",
    "    ax[i].set_title(fr'$\\lambda = {λ_curr}$')\n",
    "\n",
    "    if i==len(λ)-1:\n",
    "        ax[i].legend(loc='center left', bbox_to_anchor=(1, 0.5))\n",
    "\n",
    "plt.tight_layout()\n",
    "plt.savefig('fig3.pdf', bbox_inches='tight')\n",
    "\n",
    "plt.show()"
   ]
  }
 ],
 "metadata": {
  "kernelspec": {
   "display_name": "Python 3 (ipykernel)",
   "language": "python",
   "name": "python3"
  },
  "language_info": {
   "codemirror_mode": {
    "name": "ipython",
    "version": 3
   },
   "file_extension": ".py",
   "mimetype": "text/x-python",
   "name": "python",
   "nbconvert_exporter": "python",
   "pygments_lexer": "ipython3",
   "version": "3.8.5"
  }
 },
 "nbformat": 4,
 "nbformat_minor": 5
}
