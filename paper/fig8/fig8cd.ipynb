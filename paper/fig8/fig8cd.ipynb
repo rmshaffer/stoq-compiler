{
 "cells": [
  {
   "cell_type": "code",
   "execution_count": 1,
   "id": "af5d5d54",
   "metadata": {},
   "outputs": [],
   "source": [
    "import copy\n",
    "import matplotlib as mpl\n",
    "import matplotlib.pyplot as plt\n",
    "from matplotlib.ticker import FormatStrFormatter\n",
    "import numpy as np\n",
    "import os\n",
    "import re\n",
    "from scipy.optimize import curve_fit\n",
    "\n",
    "from jaqalpaq.parser import parse_jaqal_string\n",
    "from jaqalpaq.emulator import run_jaqal_circuit\n",
    "\n",
    "mpl.rcParams['font.size'] = 12\n",
    "mpl.rcParams['font.family'] = 'Times New Roman'\n",
    "mpl.rcParams['mathtext.fontset'] = 'cm'"
   ]
  },
  {
   "cell_type": "markdown",
   "id": "fc5438a4",
   "metadata": {},
   "source": [
    "Load the raw RAV and XEB shot data from the QSCOUT run."
   ]
  },
  {
   "cell_type": "code",
   "execution_count": 2,
   "id": "48b1ac98",
   "metadata": {},
   "outputs": [],
   "source": [
    "rav_shot_data = np.load(\"data/qscout/RAV_shot_data.npy\")\n",
    "xeb_shot_data = np.load(\"data/qscout/XEB_shot_data.npy\")\n",
    "\n",
    "k_list = [5, 10, 25, 50, 100]"
   ]
  },
  {
   "cell_type": "code",
   "execution_count": 3,
   "id": "d17ca2eb",
   "metadata": {},
   "outputs": [],
   "source": [
    "DIM = 4   # 2-qubit circuits\n",
    "\n",
    "def gaussian_func(x, alpha):\n",
    "    return alpha**(x**2)\n",
    "        \n",
    "def get_2Q_gate_count(jaqal):\n",
    "    code_array = jaqal.split(\"\\n\")\n",
    "    code_array = code_array[5:-1]\n",
    "    total_2q_gate_count = 0\n",
    "    for rotation in code_array:\n",
    "        rotation_array = rotation.split(\" \")\n",
    "        gate_type = rotation_array[0]\n",
    "        if gate_type.startswith(\"MS\"):\n",
    "            total_2q_gate_count += 1\n",
    "    return total_2q_gate_count"
   ]
  },
  {
   "cell_type": "markdown",
   "id": "0c03712e",
   "metadata": {},
   "source": [
    "## RAV"
   ]
  },
  {
   "cell_type": "code",
   "execution_count": 4,
   "id": "c548b8d0",
   "metadata": {},
   "outputs": [],
   "source": [
    "rav_alphas = {}\n",
    "rav_error_rates = {}\n",
    "\n",
    "for k in k_list:\n",
    "    shots_per_run = k\n",
    "    run_count = rav_shot_data.shape[-1] // shots_per_run\n",
    "\n",
    "    rav_run_probs = []\n",
    "    for run_idx in range(run_count):\n",
    "        run_shot_data = rav_shot_data[:,:,shots_per_run*run_idx:shots_per_run*(run_idx+1)]\n",
    "        run_probs = np.array([\n",
    "            [np.mean(run_shot_data[circuit_idx][result_idx]) for result_idx in range(len(run_shot_data[circuit_idx]))]\n",
    "            for circuit_idx in range(len(run_shot_data))\n",
    "        ])\n",
    "        rav_run_probs.append(run_probs)\n",
    "    rav_run_probs = np.array(rav_run_probs)\n",
    "    \n",
    "    def files_to_list(directory):\n",
    "        jaqal_files = [f'{directory}/{f}' for f in os.listdir(directory)]\n",
    "        jaqal_circuits = []\n",
    "        for jaqal_file in jaqal_files:\n",
    "            with open(jaqal_file, mode='r') as f:\n",
    "                jaqal = ''.join(f.readlines())\n",
    "                circuit_i = int(re.search('rav\\/(.*)_1.txt', jaqal_file).group(1))\n",
    "                circuit_i = (circuit_i // 2) - 1  # convert circuit_i to an index between 0 and 49\n",
    "                assert 0 <= circuit_i and circuit_i <= 49\n",
    "                total_2q_gate_count = get_2Q_gate_count(jaqal)\n",
    "                rav_circuit_results = run_jaqal_circuit(parse_jaqal_string(jaqal))\n",
    "                pure_probs = rav_circuit_results.subcircuits[0].probability_by_int\n",
    "                sampled_probs = rav_run_probs[:,circuit_i,:]\n",
    "                jaqal_circuits.append({\n",
    "                    'circuit_i': circuit_i,\n",
    "                    'jaqal': jaqal,\n",
    "                    'cycle_depth': total_2q_gate_count,\n",
    "                    'pure_probs': pure_probs,\n",
    "                    'sampled_probs': sampled_probs,\n",
    "                })\n",
    "        return jaqal_circuits\n",
    "\n",
    "    dir_name = \"data/sequences/rav\"\n",
    "    records = files_to_list(dir_name)\n",
    "    \n",
    "    records_by_run = [copy.deepcopy(records) for _ in range(run_count)]\n",
    "    for run_idx, records in enumerate(records_by_run):\n",
    "        for record in records:\n",
    "            record.update(\n",
    "                sampled_probs=record['sampled_probs'][run_idx],\n",
    "            )\n",
    "    \n",
    "    rav_alphas[k] = []\n",
    "    for run_idx, records in enumerate(records_by_run):\n",
    "        fidelities = [(record[\"sampled_probs\"][0] - 1/DIM) / (record[\"pure_probs\"][0] - 1/DIM) for record in records]\n",
    "        total_layer_counts = [record[\"cycle_depth\"] for record in records]\n",
    "        x_RAV = np.linspace(min(total_layer_counts), max(total_layer_counts), 100)\n",
    "        popt_RAV, pcov = curve_fit(gaussian_func, total_layer_counts, fidelities)\n",
    "        alpha_RAV = popt_RAV[0]\n",
    "        rav_alphas[k].append(alpha_RAV)\n",
    "    \n",
    "    rav_error_rates[k] = [np.sqrt(1-alpha) for alpha in rav_alphas[k]]"
   ]
  },
  {
   "cell_type": "markdown",
   "id": "ded67498",
   "metadata": {},
   "source": [
    "## XEB"
   ]
  },
  {
   "cell_type": "code",
   "execution_count": 5,
   "id": "a6954438",
   "metadata": {},
   "outputs": [],
   "source": [
    "xeb_alphas = {}\n",
    "xeb_error_rates = {}\n",
    "\n",
    "for k in k_list:\n",
    "    shots_per_run = k\n",
    "    run_count = xeb_shot_data.shape[-1] // shots_per_run\n",
    "\n",
    "    xeb_run_probs = []\n",
    "    for run_idx in range(run_count):\n",
    "        run_shot_data = xeb_shot_data[:,:,shots_per_run*run_idx:shots_per_run*(run_idx+1)]\n",
    "        run_probs = np.array([\n",
    "            [np.mean(run_shot_data[circuit_idx][result_idx]) for result_idx in range(len(run_shot_data[circuit_idx]))]\n",
    "            for circuit_idx in range(len(run_shot_data))\n",
    "        ])\n",
    "        xeb_run_probs.append(run_probs)\n",
    "    xeb_run_probs = np.array(xeb_run_probs)\n",
    "    \n",
    "    def files_to_list(directory):\n",
    "        jaqal_files = [f'{directory}/{f}' for f in os.listdir(directory)]\n",
    "        jaqal_circuits = []\n",
    "        for jaqal_file in jaqal_files:\n",
    "            with open(jaqal_file, mode='r') as f:\n",
    "                jaqal = ''.join(f.readlines())\n",
    "                circuit_i = int(re.search('xeb\\/(.*)_1.txt', jaqal_file).group(1))\n",
    "                circuit_i = (circuit_i // 2) - 1  # convert circuit_i to an index between 0 and 49\n",
    "                assert 0 <= circuit_i and circuit_i <= 49\n",
    "                total_2q_gate_count = get_2Q_gate_count(jaqal)\n",
    "                xeb_circuit_results = run_jaqal_circuit(parse_jaqal_string(jaqal))\n",
    "                pure_probs = xeb_circuit_results.subcircuits[0].probability_by_int\n",
    "                sampled_probs = xeb_run_probs[:,circuit_i,:]\n",
    "                jaqal_circuits.append({\n",
    "                    'circuit_i': circuit_i,\n",
    "                    'jaqal': jaqal,\n",
    "                    'cycle_depth': total_2q_gate_count,\n",
    "                    'pure_probs': pure_probs,\n",
    "                    'sampled_probs': sampled_probs,\n",
    "                })\n",
    "        return jaqal_circuits\n",
    "\n",
    "    dir_name = \"data/sequences/xeb\"\n",
    "    records = files_to_list(dir_name)\n",
    "    \n",
    "    records_by_run = [copy.deepcopy(records) for _ in range(run_count)]\n",
    "    for run_idx, records in enumerate(records_by_run):\n",
    "        for record in records:\n",
    "            e_u = np.sum(record['pure_probs']**2)\n",
    "            u_u = np.sum(record['pure_probs']) / DIM\n",
    "            m_u = np.sum(record['pure_probs'] * record['sampled_probs'][run_idx])\n",
    "            record.update(\n",
    "                sampled_probs=record['sampled_probs'][run_idx],\n",
    "                e_u=e_u,\n",
    "                u_u=u_u,\n",
    "                m_u=m_u,\n",
    "            )\n",
    "    \n",
    "    xeb_alphas[k] = []\n",
    "    for run_idx, records in enumerate(records_by_run):\n",
    "        fidelities = []\n",
    "        for record in records:\n",
    "            e_u = np.sum(record[\"pure_probs\"]**2)\n",
    "            u_u = np.sum(record[\"pure_probs\"]) / DIM\n",
    "            m_u = np.sum(record[\"pure_probs\"] * record[\"sampled_probs\"])\n",
    "            y = record[\"m_u\"] - record[\"u_u\"]\n",
    "            x = record[\"e_u\"] - record[\"u_u\"]\n",
    "            xeb_fidelity = (x * y) / (x ** 2)\n",
    "            fidelities.append(xeb_fidelity)\n",
    "        total_layer_counts = [record[\"cycle_depth\"] for record in records]\n",
    "\n",
    "        x_XEB = np.linspace(min(total_layer_counts), max(total_layer_counts), 100)\n",
    "        popt_XEB, pcov = curve_fit(gaussian_func, total_layer_counts, fidelities)\n",
    "        alpha_XEB = popt_XEB[0]\n",
    "        xeb_alphas[k].append(alpha_XEB)\n",
    "\n",
    "    xeb_error_rates[k] = [np.sqrt(1-alpha) for alpha in xeb_alphas[k]]"
   ]
  },
  {
   "cell_type": "markdown",
   "id": "f2ae72a0",
   "metadata": {},
   "source": [
    "## Plot for Figure 8(c)"
   ]
  },
  {
   "cell_type": "code",
   "execution_count": 6,
   "id": "139c5022",
   "metadata": {},
   "outputs": [
    {
     "data": {
      "image/png": "[encoded data removed]",
      "text/plain": [
       "<Figure size 288x360 with 1 Axes>"
      ]
     },
     "metadata": {
      "needs_background": "light"
     },
     "output_type": "display_data"
    }
   ],
   "source": [
    "plt.figure(figsize=(4,5))\n",
    "\n",
    "plt.plot(k_list, [np.std(rav_error_rates[k]) for k in k_list], 'o-', label=\"RAV\")\n",
    "plt.plot(k_list, [np.std(xeb_error_rates[k]) for k in k_list], 'o-', label=\"XEB\")\n",
    "\n",
    "plt.xscale('log')\n",
    "plt.yscale('log')\n",
    "\n",
    "plt.xlabel(r'Shots per run', fontsize=14)\n",
    "plt.ylabel(f'Std. deviation of fidelity loss estimate', fontsize=14)\n",
    "\n",
    "plt.xticks(ticks=k_list, labels=k_list)\n",
    "\n",
    "plt.xlim(4, 120)\n",
    "plt.ylim(2e-4, 1e-2)\n",
    "plt.hlines(1e-3, xmin=0, xmax=200, color='black', linestyle='dotted', linewidth=1)\n",
    "\n",
    "plt.title('QSCOUT fit precision', fontsize=14)\n",
    "\n",
    "plt.tight_layout()\n",
    "plt.legend()\n",
    "\n",
    "plt.savefig(f'fig8c.pdf', bbox_inches='tight')\n",
    "plt.show()"
   ]
  },
  {
   "cell_type": "markdown",
   "id": "8506e946",
   "metadata": {},
   "source": [
    "## Data for Figure 8(d)"
   ]
  },
  {
   "cell_type": "code",
   "execution_count": 7,
   "id": "d09709ad",
   "metadata": {},
   "outputs": [
    {
     "data": {
      "text/plain": [
       "[(5, 0.014072891763308022, 0.0010750447928841423, 0.07639117893929134),\n",
       " (10, 0.014041390527639275, 0.0008655647168005882, 0.06164380337522827),\n",
       " (25, 0.014029970099484385, 0.0006549018756296108, 0.04667877914106738),\n",
       " (50, 0.014020372139017856, 0.0004959573916823802, 0.03537405332502983),\n",
       " (100, 0.014015309631578293, 0.0002448205702771001, 0.01746808145611624)]"
      ]
     },
     "execution_count": 7,
     "metadata": {},
     "output_type": "execute_result"
    }
   ],
   "source": [
    "[(k,\n",
    "  np.mean(rav_error_rates[k]),\n",
    "  np.std(rav_error_rates[k]),\n",
    "  np.std(rav_error_rates[k])/np.mean(rav_error_rates[k])\n",
    ") for k in rav_error_rates]"
   ]
  },
  {
   "cell_type": "code",
   "execution_count": 8,
   "id": "768063f6",
   "metadata": {},
   "outputs": [
    {
     "data": {
      "text/plain": [
       "[(5, 0.015059043567464325, 0.006365290457683881, 0.4226888931669173),\n",
       " (10, 0.014633374108975366, 0.00470168738536278, 0.32129892602684196),\n",
       " (25, 0.01398605964356646, 0.0026381460202351804, 0.18862682467171651),\n",
       " (50, 0.013530115504266717, 0.0010989383969896667, 0.08122165672888135),\n",
       " (100, 0.013446284818174054, 0.0007992435895170337, 0.05943973374985875)]"
      ]
     },
     "execution_count": 8,
     "metadata": {},
     "output_type": "execute_result"
    }
   ],
   "source": [
    "[(k,\n",
    "  np.mean(xeb_error_rates[k]),\n",
    "  np.std(xeb_error_rates[k]),\n",
    "  np.std(xeb_error_rates[k])/np.mean(xeb_error_rates[k])\n",
    ") for k in xeb_error_rates]"
   ]
  },
  {
   "cell_type": "code",
   "execution_count": 9,
   "id": "649a53dc",
   "metadata": {},
   "outputs": [
    {
     "data": {
      "text/plain": [
       "[(5, 5.533215994779075),\n",
       " (10, 5.212185303867165),\n",
       " (25, 4.040954543855349),\n",
       " (50, 2.296080010469449),\n",
       " (100, 3.4027625700730084)]"
      ]
     },
     "execution_count": 9,
     "metadata": {},
     "output_type": "execute_result"
    }
   ],
   "source": [
    "[(k,\n",
    "  ((np.std(xeb_error_rates[k])/np.mean(xeb_error_rates[k]))\n",
    "   /(np.std(rav_error_rates[k])/np.mean(rav_error_rates[k])))\n",
    ") for k in xeb_error_rates]"
   ]
  }
 ],
 "metadata": {
  "kernelspec": {
   "display_name": "Python 3 (ipykernel)",
   "language": "python",
   "name": "python3"
  },
  "language_info": {
   "codemirror_mode": {
    "name": "ipython",
    "version": 3
   },
   "file_extension": ".py",
   "mimetype": "text/x-python",
   "name": "python",
   "nbconvert_exporter": "python",
   "pygments_lexer": "ipython3",
   "version": "3.8.5"
  }
 },
 "nbformat": 4,
 "nbformat_minor": 5
}
